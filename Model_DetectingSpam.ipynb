{
  "nbformat": 4,
  "nbformat_minor": 0,
  "metadata": {
    "colab": {
      "provenance": [],
      "authorship_tag": "ABX9TyO4Hc2kTEpfAzHIwlv48U+v",
      "include_colab_link": true
    },
    "kernelspec": {
      "name": "python3",
      "display_name": "Python 3"
    },
    "language_info": {
      "name": "python"
    }
  },
  "cells": [
    {
      "cell_type": "markdown",
      "metadata": {
        "id": "view-in-github",
        "colab_type": "text"
      },
      "source": [
        "<a href=\"https://colab.research.google.com/github/L3peha/internshipVK/blob/main/Model_DetectingSpam.ipynb\" target=\"_parent\"><img src=\"https://colab.research.google.com/assets/colab-badge.svg\" alt=\"Open In Colab\"/></a>"
      ]
    },
    {
      "cell_type": "code",
      "execution_count": null,
      "metadata": {
        "id": "bmQ_7L6gCegq"
      },
      "outputs": [],
      "source": [
        "'''\n",
        "If you are using Google Colab, uncomment the next lines to download fast text and datasets\n",
        "'''\n",
        "\n",
        "#!pip install fasttext\n",
        "#!pip install scikit-plot\n",
        "\n",
        "#!wget https://raw.githubusercontent.com/L3peha/internshipVK/main/raw/test_spam.csv\n",
        "#!wget https://raw.githubusercontent.com/L3peha/internshipVK/main/raw/train_spam.csv"
      ]
    },
    {
      "cell_type": "markdown",
      "source": [
        "Import all needed libriries and methods"
      ],
      "metadata": {
        "id": "tXEGR9Ebuv51"
      }
    },
    {
      "cell_type": "code",
      "source": [
        "import fasttext\n",
        "import pandas as pd\n",
        "import numpy as np\n",
        "import csv\n",
        "import re\n",
        "import scikitplot\n",
        "import sklearn\n",
        "from sklearn import svm\n",
        "from sklearn.model_selection import train_test_split\n",
        "from sklearn.feature_extraction.text import CountVectorizer\n",
        "from sklearn.linear_model import LogisticRegression\n",
        "from sklearn.feature_extraction.text import TfidfVectorizer"
      ],
      "metadata": {
        "id": "9sYN37PrmwQf"
      },
      "execution_count": 145,
      "outputs": []
    },
    {
      "cell_type": "markdown",
      "source": [
        "This is function for printing ROC auc score for models"
      ],
      "metadata": {
        "id": "h7eShCcXu2wa"
      }
    },
    {
      "cell_type": "code",
      "source": [
        "def roc_score_calc(X):\n",
        "  X_data = []\n",
        "  for i in X:\n",
        "    if i[0]>i[1]:\n",
        "      X_data.append(i[1])\n",
        "    else:\n",
        "      X_data.append(i[0])\n",
        "  #'if else' here for situation if labels are changed between each other\n",
        "  if sklearn.metrics.roc_auc_score(y_test, X_data)>0.5:\n",
        "    print(sklearn.metrics.roc_auc_score(y_test, X_data))\n",
        "  else:\n",
        "    print(1-sklearn.metrics.roc_auc_score(y_test, X_data))"
      ],
      "metadata": {
        "id": "gDGHge1jmtov"
      },
      "execution_count": 146,
      "outputs": []
    },
    {
      "cell_type": "code",
      "source": [
        "#prepearing data for models\n",
        "dataset = pd.read_csv('train_spam.csv', delimiter=',', header=None).values\n",
        "data = dataset[1:, 1]\n",
        "target = dataset[1:, 0]\n",
        "\n",
        "#spliting train data for test and train data\n",
        "X_train, X_test, y_train, y_test = train_test_split(data, target, test_size=0.25)\n",
        "\n",
        "#creating file for Fasttext library because it needs special format of data\n",
        "with open('TrainX.txt', \"w\") as f_out:\n",
        "  for i in range(len(X_train)):\n",
        "    f_out.write(\"__label__\" + y_train[i] + \" \" + X_train[i] +'\\n')\n",
        "  f_out.close()"
      ],
      "metadata": {
        "id": "B95JlTdutfO_"
      },
      "execution_count": 147,
      "outputs": []
    },
    {
      "cell_type": "code",
      "source": [
        "#training FastText model\n",
        "model = fasttext.train_supervised(input = \"TrainX.txt\", lr=0.1)\n",
        "\n",
        "#geting probabilities via .predict for every line of test data\n",
        "labels, probabilities = model.predict([re.sub('\\n', ' ', i) for i in X_test])\n"
      ],
      "metadata": {
        "id": "tRt_OEce0a0_"
      },
      "execution_count": 148,
      "outputs": []
    },
    {
      "cell_type": "code",
      "source": [
        "print('ROC AUC score for FastText:')\n",
        "print(1-sklearn.metrics.roc_auc_score(y_test, probabilities))"
      ],
      "metadata": {
        "colab": {
          "base_uri": "https://localhost:8080/"
        },
        "id": "I_FU5BNtwmnL",
        "outputId": "01e25d76-7df8-42ac-8282-1779268faf8b"
      },
      "execution_count": 149,
      "outputs": [
        {
          "output_type": "stream",
          "name": "stdout",
          "text": [
            "ROC AUC score for FastText:\n",
            "0.6951716596786224\n"
          ]
        }
      ]
    },
    {
      "cell_type": "code",
      "source": [
        "#transforming train data via CountVectorizer()\n",
        "cv = CountVectorizer()\n",
        "X_train_cVec = cv.fit_transform(X_train)\n",
        "\n",
        "#creating and fitting svm model with train data\n",
        "model1 = svm.SVC(probability=True)\n",
        "model1.fit(X_train_cVec,y_train)\n",
        "\n",
        "#transforming test data for roc auc score\n",
        "X_test_cVec = cv.transform(X_test)"
      ],
      "metadata": {
        "id": "6xM22PBiF0eq"
      },
      "execution_count": 150,
      "outputs": []
    },
    {
      "cell_type": "code",
      "source": [
        "print('ROC AUC score for CountVectorizer() with svm:')\n",
        "roc_score_calc(model1.predict_proba(X_test_cVec))"
      ],
      "metadata": {
        "colab": {
          "base_uri": "https://localhost:8080/"
        },
        "id": "7f15MV5HHo7W",
        "outputId": "355acf26-729b-4841-9f30-2cc8c631a63b"
      },
      "execution_count": 151,
      "outputs": [
        {
          "output_type": "stream",
          "name": "stdout",
          "text": [
            "ROC AUC score for CountVectorizer() with svm:\n",
            "0.5703030566357454\n"
          ]
        }
      ]
    },
    {
      "cell_type": "markdown",
      "source": [
        "SVM model computing for 4 minutes, it's a lot longer compared to other models."
      ],
      "metadata": {
        "id": "NU1fkXbA2WA-"
      }
    },
    {
      "cell_type": "code",
      "source": [
        "#creating LR model and fitting with vectorized train data\n",
        "lr_basic = LogisticRegression(solver='saga', tol=1e-3, max_iter=500)\n",
        "lr_basic.fit(X_train_cVec, y_train)"
      ],
      "metadata": {
        "id": "8idDgltkU8So",
        "colab": {
          "base_uri": "https://localhost:8080/",
          "height": 75
        },
        "outputId": "d685799c-fc1b-42f7-88b3-902deba32273"
      },
      "execution_count": 152,
      "outputs": [
        {
          "output_type": "execute_result",
          "data": {
            "text/plain": [
              "LogisticRegression(max_iter=500, solver='saga', tol=0.001)"
            ],
            "text/html": [
              "<style>#sk-container-id-7 {color: black;background-color: white;}#sk-container-id-7 pre{padding: 0;}#sk-container-id-7 div.sk-toggleable {background-color: white;}#sk-container-id-7 label.sk-toggleable__label {cursor: pointer;display: block;width: 100%;margin-bottom: 0;padding: 0.3em;box-sizing: border-box;text-align: center;}#sk-container-id-7 label.sk-toggleable__label-arrow:before {content: \"▸\";float: left;margin-right: 0.25em;color: #696969;}#sk-container-id-7 label.sk-toggleable__label-arrow:hover:before {color: black;}#sk-container-id-7 div.sk-estimator:hover label.sk-toggleable__label-arrow:before {color: black;}#sk-container-id-7 div.sk-toggleable__content {max-height: 0;max-width: 0;overflow: hidden;text-align: left;background-color: #f0f8ff;}#sk-container-id-7 div.sk-toggleable__content pre {margin: 0.2em;color: black;border-radius: 0.25em;background-color: #f0f8ff;}#sk-container-id-7 input.sk-toggleable__control:checked~div.sk-toggleable__content {max-height: 200px;max-width: 100%;overflow: auto;}#sk-container-id-7 input.sk-toggleable__control:checked~label.sk-toggleable__label-arrow:before {content: \"▾\";}#sk-container-id-7 div.sk-estimator input.sk-toggleable__control:checked~label.sk-toggleable__label {background-color: #d4ebff;}#sk-container-id-7 div.sk-label input.sk-toggleable__control:checked~label.sk-toggleable__label {background-color: #d4ebff;}#sk-container-id-7 input.sk-hidden--visually {border: 0;clip: rect(1px 1px 1px 1px);clip: rect(1px, 1px, 1px, 1px);height: 1px;margin: -1px;overflow: hidden;padding: 0;position: absolute;width: 1px;}#sk-container-id-7 div.sk-estimator {font-family: monospace;background-color: #f0f8ff;border: 1px dotted black;border-radius: 0.25em;box-sizing: border-box;margin-bottom: 0.5em;}#sk-container-id-7 div.sk-estimator:hover {background-color: #d4ebff;}#sk-container-id-7 div.sk-parallel-item::after {content: \"\";width: 100%;border-bottom: 1px solid gray;flex-grow: 1;}#sk-container-id-7 div.sk-label:hover label.sk-toggleable__label {background-color: #d4ebff;}#sk-container-id-7 div.sk-serial::before {content: \"\";position: absolute;border-left: 1px solid gray;box-sizing: border-box;top: 0;bottom: 0;left: 50%;z-index: 0;}#sk-container-id-7 div.sk-serial {display: flex;flex-direction: column;align-items: center;background-color: white;padding-right: 0.2em;padding-left: 0.2em;position: relative;}#sk-container-id-7 div.sk-item {position: relative;z-index: 1;}#sk-container-id-7 div.sk-parallel {display: flex;align-items: stretch;justify-content: center;background-color: white;position: relative;}#sk-container-id-7 div.sk-item::before, #sk-container-id-7 div.sk-parallel-item::before {content: \"\";position: absolute;border-left: 1px solid gray;box-sizing: border-box;top: 0;bottom: 0;left: 50%;z-index: -1;}#sk-container-id-7 div.sk-parallel-item {display: flex;flex-direction: column;z-index: 1;position: relative;background-color: white;}#sk-container-id-7 div.sk-parallel-item:first-child::after {align-self: flex-end;width: 50%;}#sk-container-id-7 div.sk-parallel-item:last-child::after {align-self: flex-start;width: 50%;}#sk-container-id-7 div.sk-parallel-item:only-child::after {width: 0;}#sk-container-id-7 div.sk-dashed-wrapped {border: 1px dashed gray;margin: 0 0.4em 0.5em 0.4em;box-sizing: border-box;padding-bottom: 0.4em;background-color: white;}#sk-container-id-7 div.sk-label label {font-family: monospace;font-weight: bold;display: inline-block;line-height: 1.2em;}#sk-container-id-7 div.sk-label-container {text-align: center;}#sk-container-id-7 div.sk-container {/* jupyter's `normalize.less` sets `[hidden] { display: none; }` but bootstrap.min.css set `[hidden] { display: none !important; }` so we also need the `!important` here to be able to override the default hidden behavior on the sphinx rendered scikit-learn.org. See: https://github.com/scikit-learn/scikit-learn/issues/21755 */display: inline-block !important;position: relative;}#sk-container-id-7 div.sk-text-repr-fallback {display: none;}</style><div id=\"sk-container-id-7\" class=\"sk-top-container\"><div class=\"sk-text-repr-fallback\"><pre>LogisticRegression(max_iter=500, solver=&#x27;saga&#x27;, tol=0.001)</pre><b>In a Jupyter environment, please rerun this cell to show the HTML representation or trust the notebook. <br />On GitHub, the HTML representation is unable to render, please try loading this page with nbviewer.org.</b></div><div class=\"sk-container\" hidden><div class=\"sk-item\"><div class=\"sk-estimator sk-toggleable\"><input class=\"sk-toggleable__control sk-hidden--visually\" id=\"sk-estimator-id-7\" type=\"checkbox\" checked><label for=\"sk-estimator-id-7\" class=\"sk-toggleable__label sk-toggleable__label-arrow\">LogisticRegression</label><div class=\"sk-toggleable__content\"><pre>LogisticRegression(max_iter=500, solver=&#x27;saga&#x27;, tol=0.001)</pre></div></div></div></div></div>"
            ]
          },
          "metadata": {},
          "execution_count": 152
        }
      ]
    },
    {
      "cell_type": "code",
      "source": [
        "print('ROC AUC score for CountVectorizer() with LogisticRegression:')\n",
        "roc_score_calc(lr_basic.predict_proba(X_test_cVec))"
      ],
      "metadata": {
        "id": "u9zq69gqbsEU",
        "colab": {
          "base_uri": "https://localhost:8080/"
        },
        "outputId": "df89f8d9-d03c-4f97-eed5-fa0051e4dbf3"
      },
      "execution_count": 153,
      "outputs": [
        {
          "output_type": "stream",
          "name": "stdout",
          "text": [
            "ROC AUC score for CountVectorizer() with LogisticRegression:\n",
            "0.5501166605113945\n"
          ]
        }
      ]
    },
    {
      "cell_type": "code",
      "source": [
        "#transforming train data via TfidfVectorizer()\n",
        "tfid_vec = TfidfVectorizer()\n",
        "X_train_tfid = tfid_vec.fit_transform(X_train)\n",
        "\n",
        "#creating LR model and fitting with vectorized train data\n",
        "clf = LogisticRegression(solver='saga', tol=1e-3, max_iter=500)\n",
        "clf.fit(X_train_tfid, y_train)\n",
        "\n",
        "#transforming test data for roc auc score\n",
        "X_test_tfid = tfid_vec.transform(X_test)"
      ],
      "metadata": {
        "id": "ucKmc4flUBzI"
      },
      "execution_count": 154,
      "outputs": []
    },
    {
      "cell_type": "code",
      "source": [
        "print('ROC AUC score for TfidfVectorizer() with LogisticRegression:')\n",
        "roc_score_calc(clf.predict_proba(X_test_tfid))"
      ],
      "metadata": {
        "colab": {
          "base_uri": "https://localhost:8080/"
        },
        "id": "oBzHGSlaYVc0",
        "outputId": "1980a5b3-68be-4008-b4d1-b5719ef29bf9"
      },
      "execution_count": 155,
      "outputs": [
        {
          "output_type": "stream",
          "name": "stdout",
          "text": [
            "ROC AUC score for TfidfVectorizer() with LogisticRegression:\n",
            "0.741270737836096\n"
          ]
        }
      ]
    },
    {
      "cell_type": "markdown",
      "source": [
        "As we can see model with `TfidfVectorizer()` and LogisticRegression give the best ROC AUC score `0.741270737836096`. So i will use this model for creating final file."
      ],
      "metadata": {
        "id": "hZbPMZaFytIP"
      }
    },
    {
      "cell_type": "code",
      "source": [
        "#using all data from train_spam.csv to train modell\n",
        "X_train_fin = tfid_vec.fit_transform(data)\n",
        "\n",
        "finMod = LogisticRegression()\n",
        "finMod.fit(X_train_fin, target)\n",
        "\n",
        "#getting data from test_spam.csv\n",
        "dataset_test = pd.read_csv('test_spam.csv', delimiter=',', header=None).values\n",
        "data_test = dataset_test[1:, 0]\n",
        "\n",
        "#predicting labels for test_data\n",
        "answ = finMod.predict(tfid_vec.transform(data_test))\n",
        "\n",
        "#creating and writing score and text into .csv file\n",
        "with open('Answer.csv', 'w', newline='') as csvf:\n",
        "  names = ['score', 'text']\n",
        "  writer = csv.DictWriter(csvf, fieldnames = names)\n",
        "\n",
        "  writer.writeheader()\n",
        "  for i in range(len(answ)):\n",
        "    writer.writerow({'score':answ[i],'text':data_test[i]})\n",
        "  f_out.close()"
      ],
      "metadata": {
        "id": "3g6aIR0hjg3M"
      },
      "execution_count": 156,
      "outputs": []
    }
  ]
}