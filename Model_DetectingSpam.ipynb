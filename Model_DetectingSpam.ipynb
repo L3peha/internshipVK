{
  "nbformat": 4,
  "nbformat_minor": 0,
  "metadata": {
    "colab": {
      "provenance": []
    },
    "kernelspec": {
      "name": "python3",
      "display_name": "Python 3"
    },
    "language_info": {
      "name": "python"
    }
  },
  "cells": [
    {
      "cell_type": "code",
      "execution_count": 373,
      "metadata": {
        "colab": {
          "base_uri": "https://localhost:8080/"
        },
        "id": "bmQ_7L6gCegq",
        "outputId": "4c12ae5a-5197-43b4-a5c5-c1c9141833fe"
      },
      "outputs": [
        {
          "output_type": "stream",
          "name": "stdout",
          "text": [
            "Requirement already satisfied: fasttext in /usr/local/lib/python3.10/dist-packages (0.9.2)\n",
            "Requirement already satisfied: pybind11>=2.2 in /usr/local/lib/python3.10/dist-packages (from fasttext) (2.12.0)\n",
            "Requirement already satisfied: setuptools>=0.7.0 in /usr/local/lib/python3.10/dist-packages (from fasttext) (67.7.2)\n",
            "Requirement already satisfied: numpy in /usr/local/lib/python3.10/dist-packages (from fasttext) (1.25.2)\n",
            "--2024-05-02 12:17:09--  https://raw.githubusercontent.com/L3peha/internshipVK/main/raw/test_spam.csv\n",
            "Resolving raw.githubusercontent.com (raw.githubusercontent.com)... 185.199.108.133, 185.199.109.133, 185.199.110.133, ...\n",
            "Connecting to raw.githubusercontent.com (raw.githubusercontent.com)|185.199.108.133|:443... connected.\n",
            "HTTP request sent, awaiting response... 200 OK\n",
            "Length: 1341081 (1.3M) [text/plain]\n",
            "Saving to: ‘test_spam.csv.1’\n",
            "\n",
            "test_spam.csv.1     100%[===================>]   1.28M  --.-KB/s    in 0.01s   \n",
            "\n",
            "2024-05-02 12:17:09 (117 MB/s) - ‘test_spam.csv.1’ saved [1341081/1341081]\n",
            "\n",
            "--2024-05-02 12:17:10--  https://raw.githubusercontent.com/L3peha/internshipVK/main/raw/train_spam.csv\n",
            "Resolving raw.githubusercontent.com (raw.githubusercontent.com)... 185.199.108.133, 185.199.109.133, 185.199.110.133, ...\n",
            "Connecting to raw.githubusercontent.com (raw.githubusercontent.com)|185.199.108.133|:443... connected.\n",
            "HTTP request sent, awaiting response... 200 OK\n",
            "Length: 5399880 (5.1M) [text/plain]\n",
            "Saving to: ‘train_spam.csv.1’\n",
            "\n",
            "train_spam.csv.1    100%[===================>]   5.15M  --.-KB/s    in 0.02s   \n",
            "\n",
            "2024-05-02 12:17:10 (222 MB/s) - ‘train_spam.csv.1’ saved [5399880/5399880]\n",
            "\n"
          ]
        }
      ],
      "source": [
        "'''\n",
        "If you are using Google Colab, uncomment the next lines to download fast text and datasets\n",
        "'''\n",
        "\n",
        "!pip install fasttext\n",
        "!wget https://raw.githubusercontent.com/L3peha/internshipVK/main/raw/test_spam.csv\n",
        "!wget https://raw.githubusercontent.com/L3peha/internshipVK/main/raw/train_spam.csv"
      ]
    },
    {
      "cell_type": "code",
      "source": [
        "import fasttext"
      ],
      "metadata": {
        "id": "A-Pz5CnyFOJU"
      },
      "execution_count": 374,
      "outputs": []
    },
    {
      "cell_type": "code",
      "source": [
        "#help(fasttext.FastText)"
      ],
      "metadata": {
        "id": "tSFKgFfyK8Fj"
      },
      "execution_count": 375,
      "outputs": []
    },
    {
      "cell_type": "code",
      "source": [
        "'''\n",
        "import pandas as pd\n",
        "\n",
        "df = pd.read_csv(\"train_spam.csv\")\n",
        "#print(type(df))\n",
        "df.loc[df[\"text_type\"]==\"ham\", \"text_type\"] = \"__label__ham\"\n",
        "df.loc[df[\"text_type\"]==\"spam\", \"text_type\"] = \"__label__spam\"\n",
        "#con = str(df(header=False, index=False))\n",
        "#print(con, file = open('temp.txt', 'w'))\n",
        "df.to_csv(\"temp.csv\", index=False, header=False)\n",
        "'''"
      ],
      "metadata": {
        "colab": {
          "base_uri": "https://localhost:8080/",
          "height": 53
        },
        "id": "pEYp9SmcWpHv",
        "outputId": "835c0083-2a4f-4092-c891-e2d22b3f2bc0"
      },
      "execution_count": 376,
      "outputs": [
        {
          "output_type": "execute_result",
          "data": {
            "text/plain": [
              "'\\nimport pandas as pd\\n\\ndf = pd.read_csv(\"train_spam.csv\")\\n#print(type(df))\\ndf.loc[df[\"text_type\"]==\"ham\", \"text_type\"] = \"__label__ham\"\\ndf.loc[df[\"text_type\"]==\"spam\", \"text_type\"] = \"__label__spam\"\\n#con = str(df(header=False, index=False))\\n#print(con, file = open(\\'temp.txt\\', \\'w\\'))\\ndf.to_csv(\"temp.csv\", index=False, header=False)\\n'"
            ],
            "application/vnd.google.colaboratory.intrinsic+json": {
              "type": "string"
            }
          },
          "metadata": {},
          "execution_count": 376
        }
      ]
    },
    {
      "cell_type": "code",
      "source": [
        "'''\n",
        "import csv\n",
        "with open('train.txt', \"w\") as f_out:\n",
        "    with open('temp.csv', \"r\") as f_in:\n",
        "        [ f_out.write(\" \".join(row)+'\\n') for row in csv.reader(f_in)]\n",
        "    f_out.close()\n",
        "'''"
      ],
      "metadata": {
        "colab": {
          "base_uri": "https://localhost:8080/",
          "height": 53
        },
        "id": "tdLpbDYOhFsf",
        "outputId": "9697f60b-e4fb-4d80-f8f0-58ae599544c0"
      },
      "execution_count": 377,
      "outputs": [
        {
          "output_type": "execute_result",
          "data": {
            "text/plain": [
              "'\\nimport csv\\nwith open(\\'train.txt\\', \"w\") as f_out:\\n    with open(\\'temp.csv\\', \"r\") as f_in:\\n        [ f_out.write(\" \".join(row)+\\'\\n\\') for row in csv.reader(f_in)]\\n    f_out.close()\\n'"
            ],
            "application/vnd.google.colaboratory.intrinsic+json": {
              "type": "string"
            }
          },
          "metadata": {},
          "execution_count": 377
        }
      ]
    },
    {
      "cell_type": "code",
      "source": [
        "'''\n",
        "with open('train_spam.csv', 'r') as f_in, open('tempp.txt', 'w') as f_out:\n",
        "  cont = f_in.read().replace('ham,','__label__ham ')\n",
        "  cont = f_in.read().replace('spam,','__label__spam ')\n",
        "  f_out.write(cont)\n",
        "'''"
      ],
      "metadata": {
        "colab": {
          "base_uri": "https://localhost:8080/",
          "height": 53
        },
        "id": "EjzKgc65cC0X",
        "outputId": "8d364444-0bc7-41ae-e13c-4d34dffa612b"
      },
      "execution_count": 378,
      "outputs": [
        {
          "output_type": "execute_result",
          "data": {
            "text/plain": [
              "\"\\nwith open('train_spam.csv', 'r') as f_in, open('tempp.txt', 'w') as f_out:\\n  cont = f_in.read().replace('ham,','__label__ham ')\\n  cont = f_in.read().replace('spam,','__label__spam ')\\n  f_out.write(cont)\\n\""
            ],
            "application/vnd.google.colaboratory.intrinsic+json": {
              "type": "string"
            }
          },
          "metadata": {},
          "execution_count": 378
        }
      ]
    },
    {
      "cell_type": "code",
      "source": [
        "#!cat train.txt | sed -e \"s/\\([.\\!?,'/()]\\)/ \\1 /g\" | tr \"[:upper:]\" \"[:lower:]\" > train.txt"
      ],
      "metadata": {
        "id": "WLlgDcdxbL8g"
      },
      "execution_count": 379,
      "outputs": []
    },
    {
      "cell_type": "code",
      "source": [
        "#!wc train.txt"
      ],
      "metadata": {
        "id": "ttP3RrqWJXHV"
      },
      "execution_count": 380,
      "outputs": []
    },
    {
      "cell_type": "code",
      "source": [
        "'''\n",
        "!head -n 13280 train.txt > spam.train\n",
        "!tail -n 3000 train.txt > spam.valid\n",
        "'''"
      ],
      "metadata": {
        "colab": {
          "base_uri": "https://localhost:8080/",
          "height": 35
        },
        "id": "_an_qbmZI5Pl",
        "outputId": "b1052208-bb87-42a5-a997-6c359a1e2061"
      },
      "execution_count": 381,
      "outputs": [
        {
          "output_type": "execute_result",
          "data": {
            "text/plain": [
              "'\\n!head -n 13280 train.txt > spam.train\\n!tail -n 3000 train.txt > spam.valid\\n'"
            ],
            "application/vnd.google.colaboratory.intrinsic+json": {
              "type": "string"
            }
          },
          "metadata": {},
          "execution_count": 381
        }
      ]
    },
    {
      "cell_type": "code",
      "source": [
        "'''\n",
        "model = fasttext.train_supervised(input = \"spam.train\")\n",
        "model.save_model(\"spam.bin\")\n",
        "model.test(\"spam.valid\")\n",
        "'''"
      ],
      "metadata": {
        "colab": {
          "base_uri": "https://localhost:8080/",
          "height": 35
        },
        "id": "dMFYqsFFInAI",
        "outputId": "14f2519b-d07a-4e19-89d9-25cce51bb5d7"
      },
      "execution_count": 382,
      "outputs": [
        {
          "output_type": "execute_result",
          "data": {
            "text/plain": [
              "'\\nmodel = fasttext.train_supervised(input = \"spam.train\")\\nmodel.save_model(\"spam.bin\")\\nmodel.test(\"spam.valid\")\\n'"
            ],
            "application/vnd.google.colaboratory.intrinsic+json": {
              "type": "string"
            }
          },
          "metadata": {},
          "execution_count": 382
        }
      ]
    },
    {
      "cell_type": "code",
      "source": [
        "'''\n",
        "model1 = fasttext.train_supervised(input = \"spam.train\", lr=1.0, epoch=25)\n",
        "print(model1.test(\"spam.valid\"))\n",
        "'''"
      ],
      "metadata": {
        "colab": {
          "base_uri": "https://localhost:8080/",
          "height": 35
        },
        "id": "LqFtc7AJkUiw",
        "outputId": "c24a8bbe-2285-4ac8-e907-b0e9d4efaa8f"
      },
      "execution_count": 383,
      "outputs": [
        {
          "output_type": "execute_result",
          "data": {
            "text/plain": [
              "'\\nmodel1 = fasttext.train_supervised(input = \"spam.train\", lr=1.0, epoch=25)\\nprint(model1.test(\"spam.valid\"))\\n'"
            ],
            "application/vnd.google.colaboratory.intrinsic+json": {
              "type": "string"
            }
          },
          "metadata": {},
          "execution_count": 383
        }
      ]
    },
    {
      "cell_type": "code",
      "source": [
        "#model.save_model(\"spam.bin\")"
      ],
      "metadata": {
        "id": "IeOM_vWNKJqd"
      },
      "execution_count": 384,
      "outputs": []
    },
    {
      "cell_type": "code",
      "source": [
        "#print(model.labels)"
      ],
      "metadata": {
        "id": "agEpbD7IuVWu"
      },
      "execution_count": 385,
      "outputs": []
    },
    {
      "cell_type": "code",
      "source": [
        "! pip install scikit-plot"
      ],
      "metadata": {
        "colab": {
          "base_uri": "https://localhost:8080/"
        },
        "id": "2416Fw2nrVvh",
        "outputId": "38b759c7-755b-4368-9e04-93836298bf49"
      },
      "execution_count": 386,
      "outputs": [
        {
          "output_type": "stream",
          "name": "stdout",
          "text": [
            "Requirement already satisfied: scikit-plot in /usr/local/lib/python3.10/dist-packages (0.3.7)\n",
            "Requirement already satisfied: matplotlib>=1.4.0 in /usr/local/lib/python3.10/dist-packages (from scikit-plot) (3.7.1)\n",
            "Requirement already satisfied: scikit-learn>=0.18 in /usr/local/lib/python3.10/dist-packages (from scikit-plot) (1.2.2)\n",
            "Requirement already satisfied: scipy>=0.9 in /usr/local/lib/python3.10/dist-packages (from scikit-plot) (1.11.4)\n",
            "Requirement already satisfied: joblib>=0.10 in /usr/local/lib/python3.10/dist-packages (from scikit-plot) (1.4.0)\n",
            "Requirement already satisfied: contourpy>=1.0.1 in /usr/local/lib/python3.10/dist-packages (from matplotlib>=1.4.0->scikit-plot) (1.2.1)\n",
            "Requirement already satisfied: cycler>=0.10 in /usr/local/lib/python3.10/dist-packages (from matplotlib>=1.4.0->scikit-plot) (0.12.1)\n",
            "Requirement already satisfied: fonttools>=4.22.0 in /usr/local/lib/python3.10/dist-packages (from matplotlib>=1.4.0->scikit-plot) (4.51.0)\n",
            "Requirement already satisfied: kiwisolver>=1.0.1 in /usr/local/lib/python3.10/dist-packages (from matplotlib>=1.4.0->scikit-plot) (1.4.5)\n",
            "Requirement already satisfied: numpy>=1.20 in /usr/local/lib/python3.10/dist-packages (from matplotlib>=1.4.0->scikit-plot) (1.25.2)\n",
            "Requirement already satisfied: packaging>=20.0 in /usr/local/lib/python3.10/dist-packages (from matplotlib>=1.4.0->scikit-plot) (24.0)\n",
            "Requirement already satisfied: pillow>=6.2.0 in /usr/local/lib/python3.10/dist-packages (from matplotlib>=1.4.0->scikit-plot) (9.4.0)\n",
            "Requirement already satisfied: pyparsing>=2.3.1 in /usr/local/lib/python3.10/dist-packages (from matplotlib>=1.4.0->scikit-plot) (3.1.2)\n",
            "Requirement already satisfied: python-dateutil>=2.7 in /usr/local/lib/python3.10/dist-packages (from matplotlib>=1.4.0->scikit-plot) (2.8.2)\n",
            "Requirement already satisfied: threadpoolctl>=2.0.0 in /usr/local/lib/python3.10/dist-packages (from scikit-learn>=0.18->scikit-plot) (3.4.0)\n",
            "Requirement already satisfied: six>=1.5 in /usr/local/lib/python3.10/dist-packages (from python-dateutil>=2.7->matplotlib>=1.4.0->scikit-plot) (1.16.0)\n"
          ]
        }
      ]
    },
    {
      "cell_type": "code",
      "source": [
        "#mod = fasttext.load_model(\"spam.bin\")"
      ],
      "metadata": {
        "id": "0W0KIhVoskHc"
      },
      "execution_count": 387,
      "outputs": []
    },
    {
      "cell_type": "code",
      "source": [
        "import pandas as pd\n",
        "import numpy as np\n",
        "from sklearn.model_selection import train_test_split\n",
        "\n",
        "dataset = pd.read_csv('train_spam.csv', delimiter=',', header=None).values\n",
        "data = dataset[:, 1]\n",
        "target = dataset[:, 0]\n",
        "\n",
        "print(data.shape, target.shape)\n",
        "\n",
        "X_train, X_test, y_train, y_test = train_test_split(data, target, test_size=0.25)\n",
        "print(X_train.shape, y_train.shape, X_test.shape, y_test.shape)"
      ],
      "metadata": {
        "colab": {
          "base_uri": "https://localhost:8080/"
        },
        "id": "B95JlTdutfO_",
        "outputId": "46ffa5ea-bd6e-4cc4-8642-c97894a1e948"
      },
      "execution_count": 388,
      "outputs": [
        {
          "output_type": "stream",
          "name": "stdout",
          "text": [
            "(16279,) (16279,)\n",
            "(12209,) (12209,) (4070,) (4070,)\n"
          ]
        }
      ]
    },
    {
      "cell_type": "code",
      "source": [
        "with open('TestX.txt', \"w\") as f_out:\n",
        "  for i in range(len(X_test)):\n",
        "    f_out.write(\"__label__\" + y_test[i] + \" \" + X_test[i] +'\\n')\n",
        "  f_out.close()\n",
        "\n",
        "with open('TrainX.txt', \"w\") as f_out:\n",
        "  for i in range(len(X_train)):\n",
        "    f_out.write(\"__label__\" + y_train[i] + \" \" + X_train[i] +'\\n')\n",
        "  f_out.close()"
      ],
      "metadata": {
        "id": "_jqzZy6jx8tM"
      },
      "execution_count": 389,
      "outputs": []
    },
    {
      "cell_type": "code",
      "source": [
        "model = fasttext.train_supervised(input = \"TrainX.txt\", lr=0.1)"
      ],
      "metadata": {
        "id": "U5Ay5YwI0LOh"
      },
      "execution_count": 390,
      "outputs": []
    },
    {
      "cell_type": "code",
      "source": [
        "import re\n",
        "\n",
        "labels, probabilities = model.predict([re.sub('\\n', ' ', i) for i in X_test])\n",
        "#probabilities = np.resize(np.array(probabilities),[len(y_test),1])\n",
        "#probabilities = np.array(probabilities)\n",
        "#print(probabilities)\n",
        "#print(y_test)\n"
      ],
      "metadata": {
        "id": "tRt_OEce0a0_"
      },
      "execution_count": 391,
      "outputs": []
    },
    {
      "cell_type": "code",
      "source": [
        "temp = []\n",
        "#print(labels[0])\n",
        "#print([labels[i] for i in range(10)])\n",
        "for i in range(len(y_test)):\n",
        "  if labels[i]!=['__label__spam']:\n",
        "    temp.append([probabilities[i], (1-probabilities[i])])\n",
        "  else:\n",
        "    temp.append([(1-probabilities[i]), probabilities[i]])\n",
        "#print((temp))\n",
        "probabilities = np.resize(np.array(temp),[len(y_test),2])\n",
        "print((probabilities))\n",
        "print(y_test)"
      ],
      "metadata": {
        "colab": {
          "base_uri": "https://localhost:8080/"
        },
        "id": "hEoH5e1s-zJJ",
        "outputId": "16689223-fc78-427d-dd2e-8d566eefeb40"
      },
      "execution_count": 392,
      "outputs": [
        {
          "output_type": "stream",
          "name": "stdout",
          "text": [
            "[[ 9.7007221e-01  2.9927790e-02]\n",
            " [ 9.9681234e-01  3.1876564e-03]\n",
            " [ 9.9638861e-01  3.6113858e-03]\n",
            " ...\n",
            " [ 1.0000100e+00 -1.0013580e-05]\n",
            " [ 9.9995983e-01  4.0173531e-05]\n",
            " [ 9.9339974e-01  6.6002607e-03]]\n",
            "['ham' 'ham' 'ham' ... 'ham' 'ham' 'ham']\n"
          ]
        }
      ]
    },
    {
      "cell_type": "code",
      "source": [
        "'''\n",
        "from sklearn.metrics import roc_auc_score\n",
        "print(roc_auc_score(y_test, probabilities))\n",
        "'''"
      ],
      "metadata": {
        "colab": {
          "base_uri": "https://localhost:8080/",
          "height": 35
        },
        "id": "1kTPI0Ov9eT3",
        "outputId": "aa5a430e-878b-4c26-b12e-5784b41b7fc0"
      },
      "execution_count": 393,
      "outputs": [
        {
          "output_type": "execute_result",
          "data": {
            "text/plain": [
              "'\\nfrom sklearn.metrics import roc_auc_score\\nprint(roc_auc_score(y_test, probabilities))\\n'"
            ],
            "application/vnd.google.colaboratory.intrinsic+json": {
              "type": "string"
            }
          },
          "metadata": {},
          "execution_count": 393
        }
      ]
    },
    {
      "cell_type": "code",
      "source": [
        "import scikitplot\n",
        "\n",
        "#This function plots ROC curves for all classes and micro/macro average ROC curve\n",
        "\n",
        "scikitplot.metrics.plot_roc(y_test, probabilities)"
      ],
      "metadata": {
        "colab": {
          "base_uri": "https://localhost:8080/",
          "height": 489
        },
        "id": "3TRK3RMzsNxr",
        "outputId": "2849a3e0-1f85-43f0-88e7-f0a593bcdd3e"
      },
      "execution_count": 394,
      "outputs": [
        {
          "output_type": "execute_result",
          "data": {
            "text/plain": [
              "<Axes: title={'center': 'ROC Curves'}, xlabel='False Positive Rate', ylabel='True Positive Rate'>"
            ]
          },
          "metadata": {},
          "execution_count": 394
        },
        {
          "output_type": "display_data",
          "data": {
            "text/plain": [
              "<Figure size 640x480 with 1 Axes>"
            ],
            "image/png": "[encoded data removed]"
          },
          "metadata": {}
        }
      ]
    }
  ]
}